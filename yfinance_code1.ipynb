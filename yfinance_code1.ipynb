{
  "nbformat": 4,
  "nbformat_minor": 0,
  "metadata": {
    "colab": {
      "provenance": []
    },
    "kernelspec": {
      "name": "python3",
      "display_name": "Python 3"
    },
    "language_info": {
      "name": "python"
    }
  },
  "cells": [
    {
      "cell_type": "code",
      "execution_count": 1,
      "metadata": {
        "colab": {
          "base_uri": "https://localhost:8080/"
        },
        "id": "ys-LtPPyz7Ji",
        "outputId": "8d12315a-4fcd-42fc-f23c-086bd045cb78"
      },
      "outputs": [
        {
          "output_type": "stream",
          "name": "stderr",
          "text": [
            "\r[*********************100%***********************]  1 of 1 completed\n"
          ]
        }
      ],
      "source": [
        "import yfinance as yf\n",
        "import pandas as pd\n",
        "import matplotlib.pyplot as plt\n",
        "\n",
        "# Define the ticker symbol for NVIDIA\n",
        "ticker = 'IBM'\n",
        "# data = get_stock_data('IBM', '2014-08-01', '2023-11-30')\n",
        "\n",
        "# Fetch data from Yahoo Finance from June 2022 to June 2024\n",
        "data = yf.download(ticker, start='2014-08-01', end='2023-11-30')"
      ]
    },
    {
      "cell_type": "code",
      "source": [
        "# Save the data to a CSV file\n",
        "data.to_csv(r\"IBM.csv\",index = 'True')"
      ],
      "metadata": {
        "id": "mM97ylbhz84M"
      },
      "execution_count": 3,
      "outputs": []
    },
    {
      "cell_type": "code",
      "source": [],
      "metadata": {
        "id": "Zrtg0HsP1W1Q"
      },
      "execution_count": null,
      "outputs": []
    }
  ]
}
